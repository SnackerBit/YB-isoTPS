{
 "cells": [
  {
   "cell_type": "markdown",
   "metadata": {},
   "source": [
    "In this notebook, we search for ground states of the Transverse Field Ising (TFI) model on a finite honeycomb lattice using imaginary time TEBD algorithm. We start by showing that increasing the bond dimension yields a lower ground state energy. We then compute imaginary time TEBD for different time steps $\\Delta\\tau$, observing that there exists an optimal time step at which the computed ground state energy is lowest."
   ]
  },
  {
   "cell_type": "markdown",
   "metadata": {},
   "source": [
    "# Ground state search for different values of $D_\\text{max}$"
   ]
  },
  {
   "cell_type": "code",
   "execution_count": 1,
   "metadata": {},
   "outputs": [],
   "source": [
    "import numpy as np\n",
    "import matplotlib.pyplot as plt\n",
    "import time\n",
    "import sys\n",
    "sys.path.append(\"../../\")\n",
    "from src.isoTPS.honeycomb import isoTPS\n",
    "from src.models import tfi\n",
    "from src.utility import utility"
   ]
  },
  {
   "cell_type": "code",
   "execution_count": 2,
   "metadata": {},
   "outputs": [],
   "source": [
    "# Parameters for the isoTPS\n",
    "tps_parameters = {\n",
    "    # Dimensions of the lattice\n",
    "    \"Lx\": 4,\n",
    "    \"Ly\": 4,\n",
    "    # Maximum bond dimension\n",
    "    \"D_max\": 2,\n",
    "    \"D_max_horizontal\": 4,\n",
    "    \"chi_factor\": 4,\n",
    "    # Physical bond dimension\n",
    "    \"d\": 2,\n",
    "    # Options for the YB move\n",
    "    \"yb_options\" : { \n",
    "        \"mode\" : \"svd\",\n",
    "        \"disentangle\": True,\n",
    "        \"disentangle_options\": {\n",
    "            \"mode\": \"renyi_approx\",\n",
    "            \"renyi_alpha\": 0.5,\n",
    "            \"method\": \"trm\",\n",
    "            \"N_iters\": 10,\n",
    "        }\n",
    "    },\n",
    "    # Options for the TEBD algorithm\n",
    "    \"tebd_options\": {\n",
    "        \"mode\" : \"iterate_polar\",\n",
    "        \"N_iters\": 10, # 100\n",
    "    },\n",
    "    # Options for variational column optimization\n",
    "    \"perform_variational_column_optimization\": False,\n",
    "    \"variational_column_optimization_options\": {},\n",
    "    # debug logging\n",
    "    \"debug_logger_options\": {}\n",
    "}\n",
    "# TFI field and interaction strength\n",
    "g = 3.5\n",
    "J = 1.0\n",
    "# time step for the TEBD algorithm\n",
    "dt = 0.05\n",
    "# number of iterations for the TEBD algorithm\n",
    "N_iters_tebd = 10 # 100\n",
    "# Maximum bond dimensions\n",
    "D_maxs = [2, 4]"
   ]
  },
  {
   "cell_type": "code",
   "execution_count": 3,
   "metadata": {},
   "outputs": [],
   "source": [
    "# Create the Hamiltonian as a list of local bond operators\n",
    "tfi_model = tfi.TFI(g=g, J=J)\n",
    "H_bonds = tfi_model.compute_H_bonds_2D_Honeycomb(Lx=tps_parameters[\"Ly\"], Ly=tps_parameters[\"Ly\"])\n",
    "# Compute U = e^{-dt*H}. We use 2nd order TEBD, therefore dt/2 is used as time step\n",
    "U_bonds = utility.calc_U_bonds(H_bonds, dt/2)"
   ]
  },
  {
   "cell_type": "code",
   "execution_count": 4,
   "metadata": {},
   "outputs": [
    {
     "name": "stdout",
     "output_type": "stream",
     "text": [
      "Performing ground state search for D_max = 2.\n",
      "Computing TEBD step 0...\n",
      "Computing TEBD step 1...\n",
      "Computing TEBD step 2...\n",
      "Computing TEBD step 3...\n",
      "Computing TEBD step 4...\n",
      "Computing TEBD step 5...\n",
      "Computing TEBD step 6...\n",
      "Computing TEBD step 7...\n",
      "Computing TEBD step 8...\n",
      "Computing TEBD step 9...\n",
      "Took 22.484 seconds.\n",
      "Performing ground state search for D_max = 4.\n",
      "Computing TEBD step 0...\n",
      "Computing TEBD step 1...\n",
      "Computing TEBD step 2...\n",
      "Computing TEBD step 3...\n",
      "Computing TEBD step 4...\n",
      "Computing TEBD step 5...\n",
      "Computing TEBD step 6...\n",
      "Computing TEBD step 7...\n",
      "Computing TEBD step 8...\n",
      "Computing TEBD step 9...\n",
      "Took 158.347 seconds.\n"
     ]
    }
   ],
   "source": [
    "Es = []\n",
    "for D_max in D_maxs:\n",
    "    print(f\"Performing ground state search for D_max = {D_max}.\")\n",
    "    start = time.time()\n",
    "    # Set maximum bond dimension\n",
    "    tps_parameters[\"D_max\"] = D_max\n",
    "    tps_parameters[\"D_max_horizontal\"] = D_max**2\n",
    "    # Create an isoTPS with a spin-1/2 at each site and initialize it in the \"all up\" state.\n",
    "    tps = isoTPS.isoTPS_Honeycomb(**tps_parameters)\n",
    "    tps.initialize_spinup()\n",
    "    # Keep track of energy\n",
    "    Es.append([np.sum(tps.copy().compute_expectation_values_twosite(H_bonds))])\n",
    "    # Perform TEBD\n",
    "    for n in range(N_iters_tebd):\n",
    "        print(f\"Computing TEBD step {n}...\")\n",
    "        tps.perform_TEBD2(U_bonds, 1)\n",
    "        Es[-1].append(np.sum(tps.copy().compute_expectation_values_twosite(H_bonds)))\n",
    "    end = time.time()\n",
    "    print(f\"Took {round(end-start, 3)} seconds.\")"
   ]
  },
  {
   "cell_type": "code",
   "execution_count": 5,
   "metadata": {},
   "outputs": [
    {
     "data": {
      "image/png": "[encoded data removed]",
      "text/plain": [
       "<Figure size 640x480 with 1 Axes>"
      ]
     },
     "metadata": {},
     "output_type": "display_data"
    }
   ],
   "source": [
    "for i, D_max in enumerate(D_maxs):\n",
    "    plt.plot(np.real_if_close(np.array(Es[i])/(2*tps_parameters[\"Lx\"]*tps_parameters[\"Ly\"])), \"o-\", label=r\"$D_\\text{max} = \"+str(D_max)+r\"$\")\n",
    "plt.legend()\n",
    "plt.xlabel(r\"$N_\\text{iters}$\")\n",
    "plt.ylabel(r\"$E/N$\")\n",
    "plt.show()"
   ]
  },
  {
   "cell_type": "markdown",
   "metadata": {},
   "source": [
    "# Finding the optimal time step $\\Delta\\tau$"
   ]
  },
  {
   "cell_type": "code",
   "execution_count": 6,
   "metadata": {},
   "outputs": [],
   "source": [
    "import h5py\n",
    "from src.runs import gs_energy_vs_dtau_TEBD"
   ]
  },
  {
   "cell_type": "code",
   "execution_count": 7,
   "metadata": {},
   "outputs": [
    {
     "name": "stdout",
     "output_type": "stream",
     "text": [
      "[0.5        0.33812167 0.22865253 0.15462475 0.10456396 0.07071068\n",
      " 0.04781762 0.03233635 0.02186724 0.01478758 0.01      ]\n"
     ]
    }
   ],
   "source": [
    "dtaus = np.logspace(np.log10(0.5), np.log10(0.01), 11)\n",
    "print(dtaus)"
   ]
  },
  {
   "cell_type": "code",
   "execution_count": 8,
   "metadata": {},
   "outputs": [],
   "source": [
    "run_parameters = {\n",
    "    \"tps_params\": {\n",
    "        # Dimensions of the lattice\n",
    "        \"Lx\": 4,\n",
    "        \"Ly\": 4,\n",
    "        # Maximum bond dimension\n",
    "        \"D_max\": 2,\n",
    "        \"D_max_horizontal\": 4,\n",
    "        \"chi_factor\": 4,\n",
    "        # Physical bond dimension\n",
    "        \"d\": 2,\n",
    "        # Options for the YB move\n",
    "        \"yb_options\" : { \n",
    "            \"mode\" : \"svd\",\n",
    "            \"disentangle\": True,\n",
    "            \"disentangle_options\": {\n",
    "                \"mode\": \"renyi_approx\",\n",
    "                \"renyi_alpha\": 0.5,\n",
    "                \"method\": \"trm\",\n",
    "                \"N_iters\": 10, # 100\n",
    "            }\n",
    "        },\n",
    "        # Options for the TEBD algorithm\n",
    "        \"tebd_options\": {\n",
    "            \"mode\" : \"iterate_polar\",\n",
    "            \"N_iters\": 10, # 100\n",
    "        },\n",
    "        # Options for variational column optimization\n",
    "        \"perform_variational_column_optimization\": False,\n",
    "        \"variational_column_optimization_options\": {},\n",
    "        # debug logging\n",
    "        \"debug_logger_options\": {\n",
    "            \"log_algorithm_walltimes\": True,\n",
    "            \"log_approximate_column_error_yb\": True,\n",
    "            \"log_approximate_column_error_tebd\": True,\n",
    "        }\n",
    "    },\n",
    "    \"model_params\": {\n",
    "        \"g\": 3.5,\n",
    "        \"J\": 1.0\n",
    "    },\n",
    "    \"lattice\": \"honeycomb\",\n",
    "    \"dtaus\": dtaus,\n",
    "    # number of TEBD iterations per dtau\n",
    "    \"N_steps\": 10 # 50\n",
    "}\n",
    "# Maximum bond dimensions\n",
    "D_maxs = [2, 4]"
   ]
  },
  {
   "cell_type": "code",
   "execution_count": 9,
   "metadata": {},
   "outputs": [
    {
     "name": "stdout",
     "output_type": "stream",
     "text": [
      "=========================================================\n",
      "Computing ground states for D_max = 2 ...\n",
      "=========================================================\n",
      "Computing data point for dtau = 0.5 ...\n",
      "Took 24.076 seconds.\n",
      "Computing data point for dtau = 0.33812166890312073 ...\n",
      "Took 23.063 seconds.\n",
      "Computing data point for dtau = 0.22865252596366317 ...\n",
      "Took 22.812 seconds.\n",
      "Computing data point for dtau = 0.15462474735549586 ...\n",
      "Took 22.718 seconds.\n",
      "Computing data point for dtau = 0.10456395525912734 ...\n",
      "Took 22.901 seconds.\n",
      "Computing data point for dtau = 0.07071067811865475 ...\n",
      "Took 23.001 seconds.\n",
      "Computing data point for dtau = 0.04781762498950186 ...\n",
      "Took 23.436 seconds.\n",
      "Computing data point for dtau = 0.03233635032886786 ...\n",
      "Took 23.205 seconds.\n",
      "Computing data point for dtau = 0.021867241478865564 ...\n",
      "Took 23.647 seconds.\n",
      "Computing data point for dtau = 0.014787576366283143 ...\n",
      "Took 23.982 seconds.\n",
      "Computing data point for dtau = 0.01 ...\n",
      "Took 23.499 seconds.\n",
      "-> Took 256.431 seconds in total.\n",
      "=========================================================\n",
      "Computing ground states for D_max = 4 ...\n",
      "=========================================================\n",
      "Computing data point for dtau = 0.5 ...\n",
      "Took 163.27 seconds.\n",
      "Computing data point for dtau = 0.33812166890312073 ...\n",
      "Took 168.598 seconds.\n",
      "Computing data point for dtau = 0.22865252596366317 ...\n",
      "Took 168.709 seconds.\n",
      "Computing data point for dtau = 0.15462474735549586 ...\n",
      "Took 162.803 seconds.\n",
      "Computing data point for dtau = 0.10456395525912734 ...\n",
      "Took 162.315 seconds.\n",
      "Computing data point for dtau = 0.07071067811865475 ...\n",
      "Took 160.563 seconds.\n",
      "Computing data point for dtau = 0.04781762498950186 ...\n",
      "Took 157.15 seconds.\n",
      "Computing data point for dtau = 0.03233635032886786 ...\n",
      "Took 158.586 seconds.\n",
      "Computing data point for dtau = 0.021867241478865564 ...\n",
      "Took 157.848 seconds.\n",
      "Computing data point for dtau = 0.014787576366283143 ...\n",
      "Took 156.227 seconds.\n",
      "Computing data point for dtau = 0.01 ...\n",
      "Took 154.391 seconds.\n",
      "-> Took 1770.811 seconds in total.\n"
     ]
    }
   ],
   "source": [
    "for D_max in D_maxs:\n",
    "    print(\"=========================================================\")\n",
    "    print(f\"Computing ground states for D_max = {D_max} ...\")\n",
    "    print(\"=========================================================\")\n",
    "    start = time.time()\n",
    "    run_parameters[\"tps_params\"][\"D_max\"] = D_max\n",
    "    run_parameters[\"tps_params\"][\"D_max_horizontal\"] = D_max**2\n",
    "    run_parameters[\"output_filename\"] = f\"output/gs_energy_vs_dtau/D_{D_max}/result_D_{run_parameters[\"tps_params\"][\"D_max\"]}\"\n",
    "    gs_energy_vs_dtau_TEBD.perform_gs_energy_vs_dtau_run_sequential(**run_parameters)\n",
    "    end = time.time()\n",
    "    print(f\"-> Took {round(end-start, 3)} seconds in total.\")"
   ]
  },
  {
   "cell_type": "code",
   "execution_count": 11,
   "metadata": {},
   "outputs": [
    {
     "data": {
      "image/png": "[encoded data removed]",
      "text/plain": [
       "<Figure size 640x480 with 1 Axes>"
      ]
     },
     "metadata": {},
     "output_type": "display_data"
    }
   ],
   "source": [
    "# Numerically exact energy density computed using MPS DMRG\n",
    "exact_energy = -114.8970536564047933\n",
    "# Plot error in energy density\n",
    "for D_max in D_maxs:\n",
    "    relative_errors = []\n",
    "    for i, dtau in enumerate(dtaus):\n",
    "        with h5py.File(f\"output/gs_energy_vs_dtau/D_{D_max}/result_D_{D_max}_dtau_{dtau}.h5\") as file:\n",
    "            energy = np.real_if_close(np.average(file[\"energies\"][()][-5:]))\n",
    "            relative_error = (energy-exact_energy)/(-exact_energy)\n",
    "            relative_errors.append(relative_error)\n",
    "    plt.plot(dtaus, relative_errors, \"o-\", label=r\"$D_\\text{max} = \"+str(D_max)+r\"$\")\n",
    "plt.xscale(\"log\")\n",
    "plt.yscale(\"log\")\n",
    "plt.ylabel(r\"$E$\")\n",
    "plt.xlabel(r\"$\\Delta\\tau$\")\n",
    "plt.legend()\n",
    "plt.show()"
   ]
  }
 ],
 "metadata": {
  "kernelspec": {
   "display_name": "YB-isoTPS-test",
   "language": "python",
   "name": "python3"
  },
  "language_info": {
   "codemirror_mode": {
    "name": "ipython",
    "version": 3
   },
   "file_extension": ".py",
   "mimetype": "text/x-python",
   "name": "python",
   "nbconvert_exporter": "python",
   "pygments_lexer": "ipython3",
   "version": "3.13.5"
  }
 },
 "nbformat": 4,
 "nbformat_minor": 2
}
